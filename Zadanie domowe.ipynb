{
 "cells": [
  {
   "cell_type": "markdown",
   "id": "cb20566a",
   "metadata": {},
   "source": [
    "# Statystyka i analiza danych - zdanie domowe\n",
    "Igor Czudy 145198 <br>\n",
    "piątek 15.10"
   ]
  },
  {
   "cell_type": "markdown",
   "id": "659efb6c",
   "metadata": {},
   "source": [
    "# Opis zbioru zdań \n",
    "Analizowany będzie zbór danych z 2013 stworzony przez studentów z  FSEV UK i wypełniony przez grupe wiekową 15-30 lat (obserwacja). Dane posiadają 1010 wierszy i 150 kolumn. W mojej pracy skupie się na analizie koralacji między wiarą w Boga, poczuciu szczęscia, uczciowości, problemów z używkami oraz wzrostem a wagom. Większość zmiennych to zmienne liczbowe (int). Zmienne nie liczbowe w pewnym momęcie zostaną zakodowane na zmienne liczbowe.<br>\n",
    "Zbiór danych dostępny jest na stronie kaggle: https://www.kaggle.com/miroslavsabo/young-people-survey\n"
   ]
  },
  {
   "cell_type": "code",
   "execution_count": 2,
   "id": "2ed338ef",
   "metadata": {
    "scrolled": true
   },
   "outputs": [
    {
     "name": "stderr",
     "output_type": "stream",
     "text": [
      "corrplot 0.88 loaded\n",
      "\n"
     ]
    },
    {
     "data": {
      "text/html": [
       "<table class=\"dataframe\">\n",
       "<caption>A data.frame: 6 × 150</caption>\n",
       "<thead>\n",
       "\t<tr><th></th><th scope=col>Music</th><th scope=col>Slow.songs.or.fast.songs</th><th scope=col>Dance</th><th scope=col>Folk</th><th scope=col>Country</th><th scope=col>Classical.music</th><th scope=col>Musical</th><th scope=col>Pop</th><th scope=col>Rock</th><th scope=col>Metal.or.Hardrock</th><th scope=col>...</th><th scope=col>Age</th><th scope=col>Height</th><th scope=col>Weight</th><th scope=col>Number.of.siblings</th><th scope=col>Gender</th><th scope=col>Left...right.handed</th><th scope=col>Education</th><th scope=col>Only.child</th><th scope=col>Village...town</th><th scope=col>House...block.of.flats</th></tr>\n",
       "\t<tr><th></th><th scope=col>&lt;int&gt;</th><th scope=col>&lt;int&gt;</th><th scope=col>&lt;int&gt;</th><th scope=col>&lt;int&gt;</th><th scope=col>&lt;int&gt;</th><th scope=col>&lt;int&gt;</th><th scope=col>&lt;int&gt;</th><th scope=col>&lt;int&gt;</th><th scope=col>&lt;int&gt;</th><th scope=col>&lt;int&gt;</th><th scope=col>...</th><th scope=col>&lt;int&gt;</th><th scope=col>&lt;int&gt;</th><th scope=col>&lt;int&gt;</th><th scope=col>&lt;int&gt;</th><th scope=col>&lt;chr&gt;</th><th scope=col>&lt;chr&gt;</th><th scope=col>&lt;chr&gt;</th><th scope=col>&lt;chr&gt;</th><th scope=col>&lt;chr&gt;</th><th scope=col>&lt;chr&gt;</th></tr>\n",
       "</thead>\n",
       "<tbody>\n",
       "\t<tr><th scope=row>1</th><td>5</td><td>3</td><td>2</td><td>1</td><td>2</td><td>2</td><td>1</td><td>5</td><td>5</td><td>1</td><td>...</td><td>20</td><td>163</td><td>48</td><td>1</td><td>female</td><td>right handed</td><td>college/bachelor degree</td><td>no </td><td>village</td><td>block of flats</td></tr>\n",
       "\t<tr><th scope=row>2</th><td>4</td><td>4</td><td>2</td><td>1</td><td>1</td><td>1</td><td>2</td><td>3</td><td>5</td><td>4</td><td>...</td><td>19</td><td>163</td><td>58</td><td>2</td><td>female</td><td>right handed</td><td>college/bachelor degree</td><td>no </td><td>city   </td><td>block of flats</td></tr>\n",
       "\t<tr><th scope=row>3</th><td>5</td><td>5</td><td>2</td><td>2</td><td>3</td><td>4</td><td>5</td><td>3</td><td>5</td><td>3</td><td>...</td><td>20</td><td>176</td><td>67</td><td>2</td><td>female</td><td>right handed</td><td>secondary school       </td><td>no </td><td>city   </td><td>block of flats</td></tr>\n",
       "\t<tr><th scope=row>4</th><td>5</td><td>3</td><td>2</td><td>1</td><td>1</td><td>1</td><td>1</td><td>2</td><td>2</td><td>1</td><td>...</td><td>22</td><td>172</td><td>59</td><td>1</td><td>female</td><td>right handed</td><td>college/bachelor degree</td><td>yes</td><td>city   </td><td>house/bungalow</td></tr>\n",
       "\t<tr><th scope=row>5</th><td>5</td><td>3</td><td>4</td><td>3</td><td>2</td><td>4</td><td>3</td><td>5</td><td>3</td><td>1</td><td>...</td><td>20</td><td>170</td><td>59</td><td>1</td><td>female</td><td>right handed</td><td>secondary school       </td><td>no </td><td>village</td><td>house/bungalow</td></tr>\n",
       "\t<tr><th scope=row>6</th><td>5</td><td>3</td><td>2</td><td>3</td><td>2</td><td>3</td><td>3</td><td>2</td><td>5</td><td>5</td><td>...</td><td>20</td><td>186</td><td>77</td><td>1</td><td>male  </td><td>right handed</td><td>secondary school       </td><td>no </td><td>city   </td><td>block of flats</td></tr>\n",
       "</tbody>\n",
       "</table>\n"
      ],
      "text/latex": [
       "A data.frame: 6 × 150\n",
       "\\begin{tabular}{r|lllllllllllllllllllll}\n",
       "  & Music & Slow.songs.or.fast.songs & Dance & Folk & Country & Classical.music & Musical & Pop & Rock & Metal.or.Hardrock & ... & Age & Height & Weight & Number.of.siblings & Gender & Left...right.handed & Education & Only.child & Village...town & House...block.of.flats\\\\\n",
       "  & <int> & <int> & <int> & <int> & <int> & <int> & <int> & <int> & <int> & <int> & ... & <int> & <int> & <int> & <int> & <chr> & <chr> & <chr> & <chr> & <chr> & <chr>\\\\\n",
       "\\hline\n",
       "\t1 & 5 & 3 & 2 & 1 & 2 & 2 & 1 & 5 & 5 & 1 & ... & 20 & 163 & 48 & 1 & female & right handed & college/bachelor degree & no  & village & block of flats\\\\\n",
       "\t2 & 4 & 4 & 2 & 1 & 1 & 1 & 2 & 3 & 5 & 4 & ... & 19 & 163 & 58 & 2 & female & right handed & college/bachelor degree & no  & city    & block of flats\\\\\n",
       "\t3 & 5 & 5 & 2 & 2 & 3 & 4 & 5 & 3 & 5 & 3 & ... & 20 & 176 & 67 & 2 & female & right handed & secondary school        & no  & city    & block of flats\\\\\n",
       "\t4 & 5 & 3 & 2 & 1 & 1 & 1 & 1 & 2 & 2 & 1 & ... & 22 & 172 & 59 & 1 & female & right handed & college/bachelor degree & yes & city    & house/bungalow\\\\\n",
       "\t5 & 5 & 3 & 4 & 3 & 2 & 4 & 3 & 5 & 3 & 1 & ... & 20 & 170 & 59 & 1 & female & right handed & secondary school        & no  & village & house/bungalow\\\\\n",
       "\t6 & 5 & 3 & 2 & 3 & 2 & 3 & 3 & 2 & 5 & 5 & ... & 20 & 186 & 77 & 1 & male   & right handed & secondary school        & no  & city    & block of flats\\\\\n",
       "\\end{tabular}\n"
      ],
      "text/markdown": [
       "\n",
       "A data.frame: 6 × 150\n",
       "\n",
       "| <!--/--> | Music &lt;int&gt; | Slow.songs.or.fast.songs &lt;int&gt; | Dance &lt;int&gt; | Folk &lt;int&gt; | Country &lt;int&gt; | Classical.music &lt;int&gt; | Musical &lt;int&gt; | Pop &lt;int&gt; | Rock &lt;int&gt; | Metal.or.Hardrock &lt;int&gt; | ... ... | Age &lt;int&gt; | Height &lt;int&gt; | Weight &lt;int&gt; | Number.of.siblings &lt;int&gt; | Gender &lt;chr&gt; | Left...right.handed &lt;chr&gt; | Education &lt;chr&gt; | Only.child &lt;chr&gt; | Village...town &lt;chr&gt; | House...block.of.flats &lt;chr&gt; |\n",
       "|---|---|---|---|---|---|---|---|---|---|---|---|---|---|---|---|---|---|---|---|---|---|\n",
       "| 1 | 5 | 3 | 2 | 1 | 2 | 2 | 1 | 5 | 5 | 1 | ... | 20 | 163 | 48 | 1 | female | right handed | college/bachelor degree | no  | village | block of flats |\n",
       "| 2 | 4 | 4 | 2 | 1 | 1 | 1 | 2 | 3 | 5 | 4 | ... | 19 | 163 | 58 | 2 | female | right handed | college/bachelor degree | no  | city    | block of flats |\n",
       "| 3 | 5 | 5 | 2 | 2 | 3 | 4 | 5 | 3 | 5 | 3 | ... | 20 | 176 | 67 | 2 | female | right handed | secondary school        | no  | city    | block of flats |\n",
       "| 4 | 5 | 3 | 2 | 1 | 1 | 1 | 1 | 2 | 2 | 1 | ... | 22 | 172 | 59 | 1 | female | right handed | college/bachelor degree | yes | city    | house/bungalow |\n",
       "| 5 | 5 | 3 | 4 | 3 | 2 | 4 | 3 | 5 | 3 | 1 | ... | 20 | 170 | 59 | 1 | female | right handed | secondary school        | no  | village | house/bungalow |\n",
       "| 6 | 5 | 3 | 2 | 3 | 2 | 3 | 3 | 2 | 5 | 5 | ... | 20 | 186 | 77 | 1 | male   | right handed | secondary school        | no  | city    | block of flats |\n",
       "\n"
      ],
      "text/plain": [
       "  Music Slow.songs.or.fast.songs Dance Folk Country Classical.music Musical Pop\n",
       "1 5     3                        2     1    2       2               1       5  \n",
       "2 4     4                        2     1    1       1               2       3  \n",
       "3 5     5                        2     2    3       4               5       3  \n",
       "4 5     3                        2     1    1       1               1       2  \n",
       "5 5     3                        4     3    2       4               3       5  \n",
       "6 5     3                        2     3    2       3               3       2  \n",
       "  Rock Metal.or.Hardrock ... Age Height Weight Number.of.siblings Gender\n",
       "1 5    1                 ... 20  163    48     1                  female\n",
       "2 5    4                 ... 19  163    58     2                  female\n",
       "3 5    3                 ... 20  176    67     2                  female\n",
       "4 2    1                 ... 22  172    59     1                  female\n",
       "5 3    1                 ... 20  170    59     1                  female\n",
       "6 5    5                 ... 20  186    77     1                  male  \n",
       "  Left...right.handed Education               Only.child Village...town\n",
       "1 right handed        college/bachelor degree no         village       \n",
       "2 right handed        college/bachelor degree no         city          \n",
       "3 right handed        secondary school        no         city          \n",
       "4 right handed        college/bachelor degree yes        city          \n",
       "5 right handed        secondary school        no         village       \n",
       "6 right handed        secondary school        no         city          \n",
       "  House...block.of.flats\n",
       "1 block of flats        \n",
       "2 block of flats        \n",
       "3 block of flats        \n",
       "4 house/bungalow        \n",
       "5 house/bungalow        \n",
       "6 block of flats        "
      ]
     },
     "metadata": {},
     "output_type": "display_data"
    }
   ],
   "source": [
    "library(ggplot2)\n",
    "library(corrplot)\n",
    "\n",
    "Y<-read.csv(file=\"Downloads/archive/responses.csv\", header=TRUE, sep=\",\")\n",
    "head(Y)"
   ]
  },
  {
   "cell_type": "markdown",
   "id": "3d50c63d",
   "metadata": {},
   "source": [
    "# Przegląd danych \n",
    "Tworzymy nową ramkę danych z interesujących nas kolumn. Dodatkowo kodujemy (zamieniamy) nie numeryczne dane(Alcohol, Smowking, Lying) na numerczyne. <br>\n",
    "Interesujące nas pytania: <br>\n",
    "-I believe in God.: Strongly disagree 1-2-3-4-5 Strongly agree<br>\n",
    "-I am 100% happy with my life.: Strongly disagree 1-2-3-4-5 Strongly agree<br>\n",
    "-Drinking: Never(1) - Social drinker(2) - Drink a lot(3)<br>\n",
    "-Smoking habits: Never smoked(1) - Tried smoking(2) - Former smoker(3) - Current smoker(4)<br>\n",
    "-I don't like seeing animals suffering.: Strongly disagree 1-2-3-4-5 Strongly agree<br>\n",
    "-Do you lie to others?: Never(1) - Only to avoid hurting someone(2) - Sometimes(3) - Everytime it suits me(4)<br>\n",
    "-I used to cheat at school.: Strongly disagree 1-2-3-4-5 Strongly agree<br>\n",
    "-Height:<br>\n",
    "-Weight:<br>"
   ]
  },
  {
   "cell_type": "code",
   "execution_count": 3,
   "id": "f5fee870",
   "metadata": {},
   "outputs": [
    {
     "name": "stdout",
     "output_type": "stream",
     "text": [
      "liczba zmiennych: 9 \n",
      "liczba obserwacji: 1010 \n"
     ]
    },
    {
     "data": {
      "text/html": [
       "<table class=\"dataframe\">\n",
       "<caption>A data.frame: 6 × 9</caption>\n",
       "<thead>\n",
       "\t<tr><th></th><th scope=col>Y.God</th><th scope=col>Y.Happiness.in.life</th><th scope=col>Y.Alcohol</th><th scope=col>Y.Smoking</th><th scope=col>Y.Compassion.to.animals</th><th scope=col>Y.Lying</th><th scope=col>Y.Cheating.in.school</th><th scope=col>Y.Height</th><th scope=col>Y.Weight</th></tr>\n",
       "\t<tr><th></th><th scope=col>&lt;int&gt;</th><th scope=col>&lt;int&gt;</th><th scope=col>&lt;dbl&gt;</th><th scope=col>&lt;dbl&gt;</th><th scope=col>&lt;int&gt;</th><th scope=col>&lt;dbl&gt;</th><th scope=col>&lt;int&gt;</th><th scope=col>&lt;int&gt;</th><th scope=col>&lt;int&gt;</th></tr>\n",
       "</thead>\n",
       "<tbody>\n",
       "\t<tr><th scope=row>1</th><td>1</td><td>4</td><td>3</td><td>1</td><td>5</td><td>1</td><td>2</td><td>163</td><td>48</td></tr>\n",
       "\t<tr><th scope=row>2</th><td>1</td><td>4</td><td>3</td><td>1</td><td>4</td><td>3</td><td>4</td><td>163</td><td>58</td></tr>\n",
       "\t<tr><th scope=row>3</th><td>5</td><td>4</td><td>3</td><td>2</td><td>4</td><td>3</td><td>3</td><td>176</td><td>67</td></tr>\n",
       "\t<tr><th scope=row>4</th><td>4</td><td>2</td><td>3</td><td>3</td><td>2</td><td>2</td><td>5</td><td>172</td><td>59</td></tr>\n",
       "\t<tr><th scope=row>5</th><td>5</td><td>3</td><td>2</td><td>2</td><td>3</td><td>4</td><td>5</td><td>170</td><td>59</td></tr>\n",
       "\t<tr><th scope=row>6</th><td>3</td><td>3</td><td>1</td><td>1</td><td>5</td><td>2</td><td>4</td><td>186</td><td>77</td></tr>\n",
       "</tbody>\n",
       "</table>\n"
      ],
      "text/latex": [
       "A data.frame: 6 × 9\n",
       "\\begin{tabular}{r|lllllllll}\n",
       "  & Y.God & Y.Happiness.in.life & Y.Alcohol & Y.Smoking & Y.Compassion.to.animals & Y.Lying & Y.Cheating.in.school & Y.Height & Y.Weight\\\\\n",
       "  & <int> & <int> & <dbl> & <dbl> & <int> & <dbl> & <int> & <int> & <int>\\\\\n",
       "\\hline\n",
       "\t1 & 1 & 4 & 3 & 1 & 5 & 1 & 2 & 163 & 48\\\\\n",
       "\t2 & 1 & 4 & 3 & 1 & 4 & 3 & 4 & 163 & 58\\\\\n",
       "\t3 & 5 & 4 & 3 & 2 & 4 & 3 & 3 & 176 & 67\\\\\n",
       "\t4 & 4 & 2 & 3 & 3 & 2 & 2 & 5 & 172 & 59\\\\\n",
       "\t5 & 5 & 3 & 2 & 2 & 3 & 4 & 5 & 170 & 59\\\\\n",
       "\t6 & 3 & 3 & 1 & 1 & 5 & 2 & 4 & 186 & 77\\\\\n",
       "\\end{tabular}\n"
      ],
      "text/markdown": [
       "\n",
       "A data.frame: 6 × 9\n",
       "\n",
       "| <!--/--> | Y.God &lt;int&gt; | Y.Happiness.in.life &lt;int&gt; | Y.Alcohol &lt;dbl&gt; | Y.Smoking &lt;dbl&gt; | Y.Compassion.to.animals &lt;int&gt; | Y.Lying &lt;dbl&gt; | Y.Cheating.in.school &lt;int&gt; | Y.Height &lt;int&gt; | Y.Weight &lt;int&gt; |\n",
       "|---|---|---|---|---|---|---|---|---|---|\n",
       "| 1 | 1 | 4 | 3 | 1 | 5 | 1 | 2 | 163 | 48 |\n",
       "| 2 | 1 | 4 | 3 | 1 | 4 | 3 | 4 | 163 | 58 |\n",
       "| 3 | 5 | 4 | 3 | 2 | 4 | 3 | 3 | 176 | 67 |\n",
       "| 4 | 4 | 2 | 3 | 3 | 2 | 2 | 5 | 172 | 59 |\n",
       "| 5 | 5 | 3 | 2 | 2 | 3 | 4 | 5 | 170 | 59 |\n",
       "| 6 | 3 | 3 | 1 | 1 | 5 | 2 | 4 | 186 | 77 |\n",
       "\n"
      ],
      "text/plain": [
       "  Y.God Y.Happiness.in.life Y.Alcohol Y.Smoking Y.Compassion.to.animals Y.Lying\n",
       "1 1     4                   3         1         5                       1      \n",
       "2 1     4                   3         1         4                       3      \n",
       "3 5     4                   3         2         4                       3      \n",
       "4 4     2                   3         3         2                       2      \n",
       "5 5     3                   2         2         3                       4      \n",
       "6 3     3                   1         1         5                       2      \n",
       "  Y.Cheating.in.school Y.Height Y.Weight\n",
       "1 2                    163      48      \n",
       "2 4                    163      58      \n",
       "3 3                    176      67      \n",
       "4 5                    172      59      \n",
       "5 5                    170      59      \n",
       "6 4                    186      77      "
      ]
     },
     "metadata": {},
     "output_type": "display_data"
    }
   ],
   "source": [
    "Y$Alcohol[Y$Alcohol == \"never\"] <- 1\n",
    "Y$Alcohol[Y$Alcohol == \"social drinker\"] <- 2\n",
    "Y$Alcohol[Y$Alcohol == \"drink a lot\"] <- 3\n",
    "Y$Alcohol=as.numeric(as.character(Y$Alcohol))\n",
    "Y$Smoking[Y$Smoking == \"never smoked\"] <- 1\n",
    "Y$Smoking[Y$Smoking == \"tried smoking\"] <- 2\n",
    "Y$Smoking[Y$Smoking == \"former smoker\"] <- 3\n",
    "Y$Smoking[Y$Smoking == \"current smoker\"] <- 4\n",
    "Y$Smoking=as.numeric(as.character(Y$Smoking))\n",
    "Y$Lying[Y$Lying == \"never\"] <- 1\n",
    "Y$Lying[Y$Lying == \"only to avoid hurting someone\"] <- 2\n",
    "Y$Lying[Y$Lying == \"sometimes\"] <- 3\n",
    "Y$Lying[Y$Lying == \"everytime it suits me\"] <- 4\n",
    "Y$Lying=as.numeric(as.character(Y$Lying))\n",
    "\n",
    "Z<-data.frame(Y$God,Y$Happiness.in.life,Y$Alcohol,Y$Smoking,Y$Compassion.to.animals,Y$Lying,Y$Cheating.in.school,Y$Height,Y$Weight)\n",
    "cat(\"liczba zmiennych:\", ncol(Z), \"\\n\")\n",
    "cat(\"liczba obserwacji:\", nrow(Z), \"\\n\")\n",
    "head(Z)"
   ]
  },
  {
   "cell_type": "markdown",
   "id": "333a2609",
   "metadata": {},
   "source": [
    "# Podstawowe statystyki\n"
   ]
  },
  {
   "cell_type": "code",
   "execution_count": 4,
   "id": "8edf7d68",
   "metadata": {},
   "outputs": [
    {
     "data": {
      "text/html": [
       "<table class=\"dataframe\">\n",
       "<caption>A data.frame: 7 × 9</caption>\n",
       "<thead>\n",
       "\t<tr><th></th><th scope=col>Y.God</th><th scope=col>Y.Happiness.in.life</th><th scope=col>Y.Alcohol</th><th scope=col>Y.Smoking</th><th scope=col>Y.Compassion.to.animals</th><th scope=col>Y.Lying</th><th scope=col>Y.Cheating.in.school</th><th scope=col>Y.Height</th><th scope=col>Y.Weight</th></tr>\n",
       "\t<tr><th></th><th scope=col>&lt;chr&gt;</th><th scope=col>&lt;chr&gt;</th><th scope=col>&lt;chr&gt;</th><th scope=col>&lt;chr&gt;</th><th scope=col>&lt;chr&gt;</th><th scope=col>&lt;chr&gt;</th><th scope=col>&lt;chr&gt;</th><th scope=col>&lt;chr&gt;</th><th scope=col>&lt;chr&gt;</th></tr>\n",
       "</thead>\n",
       "<tbody>\n",
       "\t<tr><th scope=row>min</th><td>1   </td><td>1   </td><td>1   </td><td>1   </td><td>1   </td><td>1   </td><td>1   </td><td>62    </td><td>41   </td></tr>\n",
       "\t<tr><th scope=row>max</th><td>5   </td><td>5   </td><td>3   </td><td>4   </td><td>5   </td><td>4   </td><td>5   </td><td>203   </td><td>165  </td></tr>\n",
       "\t<tr><th scope=row>rozstęp</th><td>4   </td><td>4   </td><td>2   </td><td>3   </td><td>4   </td><td>3   </td><td>4   </td><td>141   </td><td>124  </td></tr>\n",
       "\t<tr><th scope=row>moda</th><td>5   </td><td>4   </td><td>2   </td><td>2   </td><td>5   </td><td>3   </td><td>5   </td><td>170   </td><td>60   </td></tr>\n",
       "\t<tr><th scope=row>mediana</th><td>3   </td><td>4   </td><td>2   </td><td>2   </td><td>4   </td><td>3   </td><td>4   </td><td>173   </td><td>64   </td></tr>\n",
       "\t<tr><th scope=row>średnia</th><td>3.3 </td><td>3.71</td><td>2.1 </td><td>2.34</td><td>3.97</td><td>2.77</td><td>3.74</td><td>173.51</td><td>66.41</td></tr>\n",
       "\t<tr><th scope=row>stdev</th><td>1.48</td><td>0.82</td><td>0.58</td><td>1.01</td><td>1.19</td><td>0.74</td><td>1.25</td><td>10.02 </td><td>13.84</td></tr>\n",
       "</tbody>\n",
       "</table>\n"
      ],
      "text/latex": [
       "A data.frame: 7 × 9\n",
       "\\begin{tabular}{r|lllllllll}\n",
       "  & Y.God & Y.Happiness.in.life & Y.Alcohol & Y.Smoking & Y.Compassion.to.animals & Y.Lying & Y.Cheating.in.school & Y.Height & Y.Weight\\\\\n",
       "  & <chr> & <chr> & <chr> & <chr> & <chr> & <chr> & <chr> & <chr> & <chr>\\\\\n",
       "\\hline\n",
       "\tmin & 1    & 1    & 1    & 1    & 1    & 1    & 1    & 62     & 41   \\\\\n",
       "\tmax & 5    & 5    & 3    & 4    & 5    & 4    & 5    & 203    & 165  \\\\\n",
       "\trozstęp & 4    & 4    & 2    & 3    & 4    & 3    & 4    & 141    & 124  \\\\\n",
       "\tmoda & 5    & 4    & 2    & 2    & 5    & 3    & 5    & 170    & 60   \\\\\n",
       "\tmediana & 3    & 4    & 2    & 2    & 4    & 3    & 4    & 173    & 64   \\\\\n",
       "\tśrednia & 3.3  & 3.71 & 2.1  & 2.34 & 3.97 & 2.77 & 3.74 & 173.51 & 66.41\\\\\n",
       "\tstdev & 1.48 & 0.82 & 0.58 & 1.01 & 1.19 & 0.74 & 1.25 & 10.02  & 13.84\\\\\n",
       "\\end{tabular}\n"
      ],
      "text/markdown": [
       "\n",
       "A data.frame: 7 × 9\n",
       "\n",
       "| <!--/--> | Y.God &lt;chr&gt; | Y.Happiness.in.life &lt;chr&gt; | Y.Alcohol &lt;chr&gt; | Y.Smoking &lt;chr&gt; | Y.Compassion.to.animals &lt;chr&gt; | Y.Lying &lt;chr&gt; | Y.Cheating.in.school &lt;chr&gt; | Y.Height &lt;chr&gt; | Y.Weight &lt;chr&gt; |\n",
       "|---|---|---|---|---|---|---|---|---|---|\n",
       "| min | 1    | 1    | 1    | 1    | 1    | 1    | 1    | 62     | 41    |\n",
       "| max | 5    | 5    | 3    | 4    | 5    | 4    | 5    | 203    | 165   |\n",
       "| rozstęp | 4    | 4    | 2    | 3    | 4    | 3    | 4    | 141    | 124   |\n",
       "| moda | 5    | 4    | 2    | 2    | 5    | 3    | 5    | 170    | 60    |\n",
       "| mediana | 3    | 4    | 2    | 2    | 4    | 3    | 4    | 173    | 64    |\n",
       "| średnia | 3.3  | 3.71 | 2.1  | 2.34 | 3.97 | 2.77 | 3.74 | 173.51 | 66.41 |\n",
       "| stdev | 1.48 | 0.82 | 0.58 | 1.01 | 1.19 | 0.74 | 1.25 | 10.02  | 13.84 |\n",
       "\n"
      ],
      "text/plain": [
       "        Y.God Y.Happiness.in.life Y.Alcohol Y.Smoking Y.Compassion.to.animals\n",
       "min     1     1                   1         1         1                      \n",
       "max     5     5                   3         4         5                      \n",
       "rozstęp 4     4                   2         3         4                      \n",
       "moda    5     4                   2         2         5                      \n",
       "mediana 3     4                   2         2         4                      \n",
       "średnia 3.3   3.71                2.1       2.34      3.97                   \n",
       "stdev   1.48  0.82                0.58      1.01      1.19                   \n",
       "        Y.Lying Y.Cheating.in.school Y.Height Y.Weight\n",
       "min     1       1                    62       41      \n",
       "max     4       5                    203      165     \n",
       "rozstęp 3       4                    141      124     \n",
       "moda    3       5                    170      60      \n",
       "mediana 3       4                    173      64      \n",
       "średnia 2.77    3.74                 173.51   66.41   \n",
       "stdev   0.74    1.25                 10.02    13.84   "
      ]
     },
     "metadata": {},
     "output_type": "display_data"
    }
   ],
   "source": [
    "statystyki <- data.frame(row.names=c('min', 'max', 'rozstęp', 'moda', 'mediana', 'średnia', 'stdev'))\n",
    "\n",
    "my.max <- function(x) ifelse( !all(is.na(x)), max(x, na.rm=T), NA)\n",
    "my.min <- function(x) ifelse( !all(is.na(x)), min(x, na.rm=T), NA)\n",
    "my.median <- function(x) ifelse( !all(is.na(x)), median(x, na.rm=T), NA)\n",
    "my.mean <- function(x) ifelse( !all(is.na(x)), mean(x, na.rm=T), NA)\n",
    "my.min <- function(x) ifelse( !all(is.na(x)), min(x, na.rm=T), NA)\n",
    "my.var <- function(x) ifelse( !all(is.na(x)), var(x, na.rm=T), NA)\n",
    "\n",
    "\n",
    "for (name in colnames(Z)) {\n",
    "    x <- Z[,name]\n",
    "    moda <- names(table(x))[table(x) == my.max(table(x))]\n",
    "    minn <- my.min(x)\n",
    "    maxx <- my.max(x)\n",
    "    statystyki[,name] <- c(\n",
    "        minn, maxx, maxx - minn, moda, my.median(x), round(my.mean(x), 2), round(sqrt(my.var(x)), 2))\n",
    "}\n",
    "\n",
    "statystyki"
   ]
  },
  {
   "cell_type": "markdown",
   "id": "0ea1c4da",
   "metadata": {},
   "source": [
    "# Korelacje i wykresy"
   ]
  },
  {
   "cell_type": "code",
   "execution_count": 5,
   "id": "bf6fba89",
   "metadata": {},
   "outputs": [
    {
     "data": {
      "text/html": [
       "<table class=\"dataframe\">\n",
       "<caption>A matrix: 9 × 9 of type dbl</caption>\n",
       "<thead>\n",
       "\t<tr><th></th><th scope=col>Y.God</th><th scope=col>Y.Happiness.in.life</th><th scope=col>Y.Alcohol</th><th scope=col>Y.Smoking</th><th scope=col>Y.Compassion.to.animals</th><th scope=col>Y.Lying</th><th scope=col>Y.Cheating.in.school</th><th scope=col>Y.Height</th><th scope=col>Y.Weight</th></tr>\n",
       "</thead>\n",
       "<tbody>\n",
       "\t<tr><th scope=row>Y.God</th><td> 1.00000000</td><td> 0.10148701</td><td>-0.08795514</td><td>-0.10298955</td><td> 0.025966685</td><td>-0.02606417</td><td>-0.036036183</td><td>-0.11933546</td><td>-0.10925797</td></tr>\n",
       "\t<tr><th scope=row>Y.Happiness.in.life</th><td> 0.10148701</td><td> 1.00000000</td><td> 0.03222682</td><td> 0.02510921</td><td>-0.022561746</td><td>-0.02081383</td><td> 0.025390521</td><td> 0.03296469</td><td> 0.01615942</td></tr>\n",
       "\t<tr><th scope=row>Y.Alcohol</th><td>-0.08795514</td><td> 0.03222682</td><td> 1.00000000</td><td> 0.31979151</td><td>-0.067610041</td><td> 0.12452691</td><td> 0.162399127</td><td> 0.07449212</td><td> 0.03221379</td></tr>\n",
       "\t<tr><th scope=row>Y.Smoking</th><td>-0.10298955</td><td> 0.02510921</td><td> 0.31979151</td><td> 1.00000000</td><td> 0.010988703</td><td> 0.08095421</td><td> 0.231057674</td><td> 0.02011849</td><td> 0.05550351</td></tr>\n",
       "\t<tr><th scope=row>Y.Compassion.to.animals</th><td> 0.02596669</td><td>-0.02256175</td><td>-0.06761004</td><td> 0.01098870</td><td> 1.000000000</td><td>-0.01588635</td><td>-0.008088769</td><td>-0.14189012</td><td>-0.13928165</td></tr>\n",
       "\t<tr><th scope=row>Y.Lying</th><td>-0.02606417</td><td>-0.02081383</td><td> 0.12452691</td><td> 0.08095421</td><td>-0.015886349</td><td> 1.00000000</td><td> 0.110463991</td><td>-0.03553532</td><td>-0.01209999</td></tr>\n",
       "\t<tr><th scope=row>Y.Cheating.in.school</th><td>-0.03603618</td><td> 0.02539052</td><td> 0.16239913</td><td> 0.23105767</td><td>-0.008088769</td><td> 0.11046399</td><td> 1.000000000</td><td> 0.03087939</td><td>-0.02103814</td></tr>\n",
       "\t<tr><th scope=row>Y.Height</th><td>-0.11933546</td><td> 0.03296469</td><td> 0.07449212</td><td> 0.02011849</td><td>-0.141890123</td><td>-0.03553532</td><td> 0.030879390</td><td> 1.00000000</td><td> 0.73518456</td></tr>\n",
       "\t<tr><th scope=row>Y.Weight</th><td>-0.10925797</td><td> 0.01615942</td><td> 0.03221379</td><td> 0.05550351</td><td>-0.139281653</td><td>-0.01209999</td><td>-0.021038145</td><td> 0.73518456</td><td> 1.00000000</td></tr>\n",
       "</tbody>\n",
       "</table>\n"
      ],
      "text/latex": [
       "A matrix: 9 × 9 of type dbl\n",
       "\\begin{tabular}{r|lllllllll}\n",
       "  & Y.God & Y.Happiness.in.life & Y.Alcohol & Y.Smoking & Y.Compassion.to.animals & Y.Lying & Y.Cheating.in.school & Y.Height & Y.Weight\\\\\n",
       "\\hline\n",
       "\tY.God &  1.00000000 &  0.10148701 & -0.08795514 & -0.10298955 &  0.025966685 & -0.02606417 & -0.036036183 & -0.11933546 & -0.10925797\\\\\n",
       "\tY.Happiness.in.life &  0.10148701 &  1.00000000 &  0.03222682 &  0.02510921 & -0.022561746 & -0.02081383 &  0.025390521 &  0.03296469 &  0.01615942\\\\\n",
       "\tY.Alcohol & -0.08795514 &  0.03222682 &  1.00000000 &  0.31979151 & -0.067610041 &  0.12452691 &  0.162399127 &  0.07449212 &  0.03221379\\\\\n",
       "\tY.Smoking & -0.10298955 &  0.02510921 &  0.31979151 &  1.00000000 &  0.010988703 &  0.08095421 &  0.231057674 &  0.02011849 &  0.05550351\\\\\n",
       "\tY.Compassion.to.animals &  0.02596669 & -0.02256175 & -0.06761004 &  0.01098870 &  1.000000000 & -0.01588635 & -0.008088769 & -0.14189012 & -0.13928165\\\\\n",
       "\tY.Lying & -0.02606417 & -0.02081383 &  0.12452691 &  0.08095421 & -0.015886349 &  1.00000000 &  0.110463991 & -0.03553532 & -0.01209999\\\\\n",
       "\tY.Cheating.in.school & -0.03603618 &  0.02539052 &  0.16239913 &  0.23105767 & -0.008088769 &  0.11046399 &  1.000000000 &  0.03087939 & -0.02103814\\\\\n",
       "\tY.Height & -0.11933546 &  0.03296469 &  0.07449212 &  0.02011849 & -0.141890123 & -0.03553532 &  0.030879390 &  1.00000000 &  0.73518456\\\\\n",
       "\tY.Weight & -0.10925797 &  0.01615942 &  0.03221379 &  0.05550351 & -0.139281653 & -0.01209999 & -0.021038145 &  0.73518456 &  1.00000000\\\\\n",
       "\\end{tabular}\n"
      ],
      "text/markdown": [
       "\n",
       "A matrix: 9 × 9 of type dbl\n",
       "\n",
       "| <!--/--> | Y.God | Y.Happiness.in.life | Y.Alcohol | Y.Smoking | Y.Compassion.to.animals | Y.Lying | Y.Cheating.in.school | Y.Height | Y.Weight |\n",
       "|---|---|---|---|---|---|---|---|---|---|\n",
       "| Y.God |  1.00000000 |  0.10148701 | -0.08795514 | -0.10298955 |  0.025966685 | -0.02606417 | -0.036036183 | -0.11933546 | -0.10925797 |\n",
       "| Y.Happiness.in.life |  0.10148701 |  1.00000000 |  0.03222682 |  0.02510921 | -0.022561746 | -0.02081383 |  0.025390521 |  0.03296469 |  0.01615942 |\n",
       "| Y.Alcohol | -0.08795514 |  0.03222682 |  1.00000000 |  0.31979151 | -0.067610041 |  0.12452691 |  0.162399127 |  0.07449212 |  0.03221379 |\n",
       "| Y.Smoking | -0.10298955 |  0.02510921 |  0.31979151 |  1.00000000 |  0.010988703 |  0.08095421 |  0.231057674 |  0.02011849 |  0.05550351 |\n",
       "| Y.Compassion.to.animals |  0.02596669 | -0.02256175 | -0.06761004 |  0.01098870 |  1.000000000 | -0.01588635 | -0.008088769 | -0.14189012 | -0.13928165 |\n",
       "| Y.Lying | -0.02606417 | -0.02081383 |  0.12452691 |  0.08095421 | -0.015886349 |  1.00000000 |  0.110463991 | -0.03553532 | -0.01209999 |\n",
       "| Y.Cheating.in.school | -0.03603618 |  0.02539052 |  0.16239913 |  0.23105767 | -0.008088769 |  0.11046399 |  1.000000000 |  0.03087939 | -0.02103814 |\n",
       "| Y.Height | -0.11933546 |  0.03296469 |  0.07449212 |  0.02011849 | -0.141890123 | -0.03553532 |  0.030879390 |  1.00000000 |  0.73518456 |\n",
       "| Y.Weight | -0.10925797 |  0.01615942 |  0.03221379 |  0.05550351 | -0.139281653 | -0.01209999 | -0.021038145 |  0.73518456 |  1.00000000 |\n",
       "\n"
      ],
      "text/plain": [
       "                        Y.God       Y.Happiness.in.life Y.Alcohol   Y.Smoking  \n",
       "Y.God                    1.00000000  0.10148701         -0.08795514 -0.10298955\n",
       "Y.Happiness.in.life      0.10148701  1.00000000          0.03222682  0.02510921\n",
       "Y.Alcohol               -0.08795514  0.03222682          1.00000000  0.31979151\n",
       "Y.Smoking               -0.10298955  0.02510921          0.31979151  1.00000000\n",
       "Y.Compassion.to.animals  0.02596669 -0.02256175         -0.06761004  0.01098870\n",
       "Y.Lying                 -0.02606417 -0.02081383          0.12452691  0.08095421\n",
       "Y.Cheating.in.school    -0.03603618  0.02539052          0.16239913  0.23105767\n",
       "Y.Height                -0.11933546  0.03296469          0.07449212  0.02011849\n",
       "Y.Weight                -0.10925797  0.01615942          0.03221379  0.05550351\n",
       "                        Y.Compassion.to.animals Y.Lying    \n",
       "Y.God                    0.025966685            -0.02606417\n",
       "Y.Happiness.in.life     -0.022561746            -0.02081383\n",
       "Y.Alcohol               -0.067610041             0.12452691\n",
       "Y.Smoking                0.010988703             0.08095421\n",
       "Y.Compassion.to.animals  1.000000000            -0.01588635\n",
       "Y.Lying                 -0.015886349             1.00000000\n",
       "Y.Cheating.in.school    -0.008088769             0.11046399\n",
       "Y.Height                -0.141890123            -0.03553532\n",
       "Y.Weight                -0.139281653            -0.01209999\n",
       "                        Y.Cheating.in.school Y.Height    Y.Weight   \n",
       "Y.God                   -0.036036183         -0.11933546 -0.10925797\n",
       "Y.Happiness.in.life      0.025390521          0.03296469  0.01615942\n",
       "Y.Alcohol                0.162399127          0.07449212  0.03221379\n",
       "Y.Smoking                0.231057674          0.02011849  0.05550351\n",
       "Y.Compassion.to.animals -0.008088769         -0.14189012 -0.13928165\n",
       "Y.Lying                  0.110463991         -0.03553532 -0.01209999\n",
       "Y.Cheating.in.school     1.000000000          0.03087939 -0.02103814\n",
       "Y.Height                 0.030879390          1.00000000  0.73518456\n",
       "Y.Weight                -0.021038145          0.73518456  1.00000000"
      ]
     },
     "metadata": {},
     "output_type": "display_data"
    },
    {
     "data": {
      "image/png": "[encoded data removed]",
      "text/plain": [
       "Plot with title \"\""
      ]
     },
     "metadata": {
      "image/png": {
       "height": 420,
       "width": 420
      }
     },
     "output_type": "display_data"
    }
   ],
   "source": [
    "#plot(Z)\n",
    "cor(Z,use = \"complete.obs\")\n",
    "corrplot(cor(Z,use = \"complete.obs\"))"
   ]
  },
  {
   "cell_type": "code",
   "execution_count": 6,
   "id": "d3f3cd21",
   "metadata": {},
   "outputs": [
    {
     "data": {
      "image/png": "[encoded data removed]",
      "text/plain": [
       "plot without title"
      ]
     },
     "metadata": {
      "image/png": {
       "height": 420,
       "width": 420
      }
     },
     "output_type": "display_data"
    }
   ],
   "source": [
    "plot(Y$Height,Y$Weight)"
   ]
  },
  {
   "cell_type": "markdown",
   "id": "d901d0b4",
   "metadata": {},
   "source": [
    "# Szereg rozdzielczy i histogram\n",
    "Zlikwidowałem znaleziony błąd w danych w kolumnie wysokość. Jedna osoba zanaczyła, że ma 62cm wzrostu co jest oczywistym błędem. (outliner)"
   ]
  },
  {
   "cell_type": "code",
   "execution_count": 7,
   "id": "49272627",
   "metadata": {},
   "outputs": [
    {
     "data": {
      "text/plain": [
       "\n",
       "[147,152) [152,157) [157,162) [162,167) [167,172) [172,177) [177,182) [182,187) \n",
       "        1        17        67       150       219       176       138       124 \n",
       "[187,192) [192,197) [197,202) \n",
       "       66        25         5 "
      ]
     },
     "metadata": {},
     "output_type": "display_data"
    },
    {
     "name": "stderr",
     "output_type": "stream",
     "text": [
      "Warning message:\n",
      "\"Ignoring unknown parameters: stat_bin\"\n",
      "`stat_bin()` using `bins = 30`. Pick better value with `binwidth`.\n",
      "\n",
      "Warning message:\n",
      "\"Removed 20 rows containing non-finite values (stat_bin).\"\n"
     ]
    },
    {
     "data": {
      "image/png": "[encoded data removed]",
      "text/plain": [
       "plot without title"
      ]
     },
     "metadata": {
      "image/png": {
       "height": 420,
       "width": 420
      }
     },
     "output_type": "display_data"
    }
   ],
   "source": [
    "Y$Height[Y$Height==62]<-162#zamiana błędnie wypisanych danych z 62 na 162\n",
    "\n",
    "table(cut(Y$Height, seq(147, 204, 5), right=FALSE))\n",
    "\n",
    "p <- ggplot(Y, aes(x=Height)) + \n",
    "  geom_histogram(stat_bin=5) +\n",
    "    labs(x='Wzrost')\n",
    "\n",
    "p"
   ]
  },
  {
   "cell_type": "code",
   "execution_count": 54,
   "id": "bebe0c91",
   "metadata": {},
   "outputs": [
    {
     "name": "stderr",
     "output_type": "stream",
     "text": [
      "Warning message:\n",
      "\"Ignoring unknown parameters: stat_bin\"\n",
      "`stat_bin()` using `bins = 30`. Pick better value with `binwidth`.\n",
      "\n",
      "Warning message:\n",
      "\"Removed 20 rows containing non-finite values (stat_bin).\"\n"
     ]
    },
    {
     "data": {
      "image/png": "[encoded data removed]",
      "text/plain": [
       "plot without title"
      ]
     },
     "metadata": {
      "image/png": {
       "height": 420,
       "width": 420
      }
     },
     "output_type": "display_data"
    }
   ],
   "source": [
    "p <- ggplot(Y, aes(x=Weight)) + \n",
    "  geom_histogram(stat_bin=5) +\n",
    "    labs(x='Waga')\n",
    "\n",
    "p"
   ]
  },
  {
   "cell_type": "markdown",
   "id": "e4902436",
   "metadata": {},
   "source": [
    "# Wnioski\n",
    "-Waga i wzrost są przyblożonymi rozkłądami normalnymi <br>\n",
    "-Waga jest dodatnio skorelowana ze wzrostem<br>\n",
    "-Istniejej bardzo mała korelacja osób uzalenionych od papierosów oraz uzależnionych od alkohol <br>\n",
    "-Istniejej bardzo mała korelacja osób uzalenionych od papierosów oraz oszokujących na egzaminach  <br>\n"
   ]
  },
  {
   "cell_type": "markdown",
   "id": "555255fe",
   "metadata": {},
   "source": [
    "\n",
    "# Testowanie hipotez\n",
    "Czy istaeje zależność między wzrostem a wagą? <br>\n",
    "Hipoteza 0: p=0<br>\n",
    "Hipoteza 1: p!=0 <br><br>\n",
    "Test t przy alpha=0.05  (szczerze mówiąc to nie wiem czy dobrego testu użyłem, bo przecież próba jest duża, więc może po prostu Z. Chociaż nad chisq też się zastanawaiłem :/ )<br>\n",
    "Założenia: zmienne (X,Y) populacji mają dwuwymiarowy rozkładnormalny o nieznanym współczynniku korelacji ρ. Na podstawie n -elementowej próby wyznaczono r . \n",
    "\n",
    "\n",
    "## Decyzja\n",
    "Odrzucamy H0 na rzecz H1 czyli istnieje zależność między wzrostem a wagą. <br>\n",
    "Oczywiście istaniejący związej nie oznacza przyczynowości. Powinnismy teraz przemyśleć wynik. Po chwili zastanowienia i przy ogólnej znajomości badanego tematu, możemy stwierdzić, że osoby wyższe są cięższe. Ma to sens, ponieważ osoby wyższe mają większą obietość ciała, tym samym są na ogół cięższe. Nie przeszkadza to jednak w znalezieniu niskiej osoby, która jest cięższa od wyższej.    "
   ]
  },
  {
   "cell_type": "code",
   "execution_count": 27,
   "id": "1b7c57c6",
   "metadata": {},
   "outputs": [
    {
     "data": {
      "text/plain": [
       "\n",
       "\tPearson's product-moment correlation\n",
       "\n",
       "data:  Y$Height and Y$Weight\n",
       "t = 34.064, df = 978, p-value < 2.2e-16\n",
       "alternative hypothesis: true correlation is not equal to 0\n",
       "95 percent confidence interval:\n",
       " 0.7066148 0.7640192\n",
       "sample estimates:\n",
       "      cor \n",
       "0.7366411 \n"
      ]
     },
     "metadata": {},
     "output_type": "display_data"
    },
    {
     "name": "stdout",
     "output_type": "stream",
     "text": [
      "[1] Wartość statystyki: \n"
     ]
    },
    {
     "data": {
      "text/html": [
       "<strong>t:</strong> 34.0640521609207"
      ],
      "text/latex": [
       "\\textbf{t:} 34.0640521609207"
      ],
      "text/markdown": [
       "**t:** 34.0640521609207"
      ],
      "text/plain": [
       "       t \n",
       "34.06405 "
      ]
     },
     "metadata": {},
     "output_type": "display_data"
    },
    {
     "name": "stdout",
     "output_type": "stream",
     "text": [
      "[1] Zbiór krytyczny: \n"
     ]
    },
    {
     "data": {
      "text/plain": [
       "[1] (12.592,inf)"
      ]
     },
     "metadata": {},
     "output_type": "display_data"
    },
    {
     "name": "stdout",
     "output_type": "stream",
     "text": [
      "[1] Decyzja: \n"
     ]
    },
    {
     "data": {
      "text/html": [
       "2.5423996962696e-168"
      ],
      "text/latex": [
       "2.5423996962696e-168"
      ],
      "text/markdown": [
       "2.5423996962696e-168"
      ],
      "text/plain": [
       "[1] 2.5424e-168"
      ]
     },
     "metadata": {},
     "output_type": "display_data"
    },
    {
     "data": {
      "text/plain": [
       "[1] Odrzucamy H0 na rzecz H1"
      ]
     },
     "metadata": {},
     "output_type": "display_data"
    }
   ],
   "source": [
    "cor.test(Y$Height,Y$Weight)\n",
    "test<-cor.test(Y$Height,Y$Weight)\n",
    "print(\"Wartość statystyki: \", quote = FALSE)\n",
    "test$statistic\n",
    "\n",
    "print(\"Zbiór krytyczny: \", quote = FALSE)\n",
    "noquote(paste('(', round(qchisq(1-0.05, 6),3), \",inf)\", sep = \"\"))\n",
    "\n",
    "\n",
    "#H0:Brak zaleznosci\n",
    "#H1:Istnieje zaleznosc\n",
    "\n",
    "print(\"Decyzja: \", quote = FALSE)\n",
    "test$p.value[[1]]\n",
    "if (0.05 > test$p.value[[1]])\n",
    "{\n",
    "    noquote(\"Odrzucamy H0 na rzecz H1\")\n",
    "}else\n",
    "{\n",
    "    noquote(\"Brak podstaw do odrzucenia H0\")\n",
    "}"
   ]
  },
  {
   "cell_type": "markdown",
   "id": "9ba0721f",
   "metadata": {},
   "source": [
    "# Testowanie hipotez\n",
    "Czy istaeje zależność między osobami uzależnionymi od papierosów i od alkoholu? <br>\n",
    "Hipoteza 0: p=0<br>\n",
    "Hipoteza 1: p!=0 <br><br>\n",
    "Test t przy alpha=0.05  <br>\n",
    "Założenia: zmienne (X,Y) populacji mają dwuwymiarowy rozkładnormalny o nieznanym współczynniku korelacji ρ. Na podstawie n -elementowej próby wyznaczono r . \n",
    "\n",
    "\n",
    "## Decyzja\n",
    "Odrzucamy H0 na rzecz H1 czyli istnieje zależność między osobami uzależnionymi od papierosów i od alkoholu. <br>\n",
    "Oczywiście istaniejący związej nie oznacza przyczynowości. Powinnismy teraz przemyśleć wynik. W tej sytuacji najleiej byłoby o opinie zapytać specjalistę-psychologa uzależnień. Mi samemo cięzko jest wypowiedzieć się na temat tej korelacji. Na chłobski rozum wydaje się być to sensowne, jednak moja opinie może być obarczona różnymi błędami poznawczymi. "
   ]
  },
  {
   "cell_type": "code",
   "execution_count": 30,
   "id": "295eef11",
   "metadata": {},
   "outputs": [
    {
     "data": {
      "text/plain": [
       "\n",
       "\tPearson's product-moment correlation\n",
       "\n",
       "data:  Y$Smoking and Y$Alcohol\n",
       "t = 10.95, df = 998, p-value < 2.2e-16\n",
       "alternative hypothesis: true correlation is not equal to 0\n",
       "95 percent confidence interval:\n",
       " 0.2710069 0.3817406\n",
       "sample estimates:\n",
       "      cor \n",
       "0.3274979 \n"
      ]
     },
     "metadata": {},
     "output_type": "display_data"
    },
    {
     "name": "stdout",
     "output_type": "stream",
     "text": [
      "[1] Wartość statystyki: \n"
     ]
    },
    {
     "data": {
      "text/html": [
       "<strong>t:</strong> 10.9498961239038"
      ],
      "text/latex": [
       "\\textbf{t:} 10.9498961239038"
      ],
      "text/markdown": [
       "**t:** 10.9498961239038"
      ],
      "text/plain": [
       "      t \n",
       "10.9499 "
      ]
     },
     "metadata": {},
     "output_type": "display_data"
    },
    {
     "name": "stdout",
     "output_type": "stream",
     "text": [
      "[1] Zbiór krytyczny: \n"
     ]
    },
    {
     "data": {
      "text/plain": [
       "[1] (12.592,inf)"
      ]
     },
     "metadata": {},
     "output_type": "display_data"
    },
    {
     "name": "stdout",
     "output_type": "stream",
     "text": [
      "[1] Decyzja: \n"
     ]
    },
    {
     "data": {
      "text/html": [
       "1.97941162822712e-26"
      ],
      "text/latex": [
       "1.97941162822712e-26"
      ],
      "text/markdown": [
       "1.97941162822712e-26"
      ],
      "text/plain": [
       "[1] 1.979412e-26"
      ]
     },
     "metadata": {},
     "output_type": "display_data"
    },
    {
     "data": {
      "text/plain": [
       "[1] Odrzucamy H0 na rzecz H1"
      ]
     },
     "metadata": {},
     "output_type": "display_data"
    }
   ],
   "source": [
    "cor.test(Y$Smoking,Y$Alcohol)\n",
    "test<-cor.test(Y$Smoking,Y$Alcohol)\n",
    "print(\"Wartość statystyki: \", quote = FALSE)\n",
    "test$statistic\n",
    "\n",
    "print(\"Zbiór krytyczny: \", quote = FALSE)\n",
    "noquote(paste('(', round(qchisq(1-0.05, 6),3), \",inf)\", sep = \"\"))\n",
    "\n",
    "\n",
    "#H0:Brak zaleznosci\n",
    "#H1:Istnieje zaleznosc\n",
    "\n",
    "print(\"Decyzja: \", quote = FALSE)\n",
    "test$p.value[[1]]\n",
    "if (0.05 > test$p.value[[1]])\n",
    "{\n",
    "    noquote(\"Odrzucamy H0 na rzecz H1\")\n",
    "}else\n",
    "{\n",
    "    noquote(\"Brak podstaw do odrzucenia H0\")\n",
    "}"
   ]
  }
 ],
 "metadata": {
  "kernelspec": {
   "display_name": "R",
   "language": "R",
   "name": "ir"
  },
  "language_info": {
   "codemirror_mode": "r",
   "file_extension": ".r",
   "mimetype": "text/x-r-source",
   "name": "R",
   "pygments_lexer": "r",
   "version": "4.1.0"
  }
 },
 "nbformat": 4,
 "nbformat_minor": 5
}
